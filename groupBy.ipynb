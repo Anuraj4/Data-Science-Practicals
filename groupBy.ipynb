{
 "cells": [
  {
   "cell_type": "code",
   "execution_count": 1,
   "metadata": {},
   "outputs": [
    {
     "name": "stdout",
     "output_type": "stream",
     "text": [
      "                 Score  Marks\n",
      "Student Subject              \n",
      "Alice   Math      86.5   41.5\n",
      "Bob     Science   91.0   20.5\n",
      "Charlie Math      75.0   10.0\n",
      "David   Science   80.0   24.0\n"
     ]
    }
   ],
   "source": [
    "import pandas as pd\n",
    "\n",
    "# Sample dataset\n",
    "data = {\n",
    "    \"Student\": [\"Alice\", \"Bob\", \"Charlie\", \"David\", \"Alice\", \"Bob\"],\n",
    "    \"Subject\": [\"Math\", \"Science\", \"Math\", \"Science\", \"Math\", \"Science\"],\n",
    "    \"Score\": [85, 90, 75, 80, 88, 92],\n",
    "    \"Marks\": [40, 30,10,24,43,11],\n",
    "}\n",
    "# Create DataFrame\n",
    "df = pd.DataFrame(data)\n",
    "\n",
    "# Group data by 'Student' and 'Subject' and calculate mean score\n",
    "mean_scores = df.groupby([\"Student\", \"Subject\"]).mean()\n",
    "\n",
    "# Print the mean scores\n",
    "print(mean_scores)"
   ]
  }
 ],
 "metadata": {
  "kernelspec": {
   "display_name": "Python 3",
   "language": "python",
   "name": "python3"
  },
  "language_info": {
   "codemirror_mode": {
    "name": "ipython",
    "version": 3
   },
   "file_extension": ".py",
   "mimetype": "text/x-python",
   "name": "python",
   "nbconvert_exporter": "python",
   "pygments_lexer": "ipython3",
   "version": "3.11.0"
  }
 },
 "nbformat": 4,
 "nbformat_minor": 2
}
