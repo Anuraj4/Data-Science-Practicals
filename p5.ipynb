{
 "cells": [
  {
   "cell_type": "code",
   "execution_count": null,
   "id": "cc27bb8c",
   "metadata": {},
   "outputs": [],
   "source": [
    "# PRblem statement:- Implement logistic regression using python on given dataset\n",
    "# Compute Confusion matrix to find TP, FP, TN, FN, Accuracy, Error rate, Precision, Recall on the given\n",
    "# dataset\n",
    "# tp=true positive\n",
    "# tn = true negative"
   ]
  },
  {
   "cell_type": "code",
   "execution_count": null,
   "id": "75971fc2",
   "metadata": {},
   "outputs": [],
   "source": [
    "# notes\n",
    "# Logistic Regression: Classification techniques are an essential part of machine learning and data\n",
    "# mining applications. Approximately 70% of problems in Data Science are classification problems.\n",
    "# There are lots of classification problems that are available, but logistic regression is common and is a\n",
    "# useful regression method for solving the binary classification problem."
   ]
  },
  {
   "cell_type": "code",
   "execution_count": null,
   "id": "fbcbe511",
   "metadata": {},
   "outputs": [],
   "source": [
    "# formulae\n",
    "# accurary = (tp + tn)/(tp + tn + fp + fn)\n",
    "# Precision = tp/(tp + fp)\n",
    "# Recall = tp/(tp + fn)"
   ]
  },
  {
   "cell_type": "code",
   "execution_count": null,
   "id": "f1871d99",
   "metadata": {},
   "outputs": [],
   "source": [
    "# Need of scikit-learn library:-\n",
    "# Overall, scikit-learn simplifies the process of implementing machine learning algorithms \\\n",
    "# and enables data scientists to build, evaluate, and deploy models more efficiently."
   ]
  },
  {
   "cell_type": "code",
   "execution_count": null,
   "id": "f1290a78",
   "metadata": {},
   "outputs": [],
   "source": [
    "# Importing libraries\n",
    "import numpy as np\n",
    "import pandas as pd\n",
    "import matplotlib.pyplot as plt\n",
    "from sklearn.model_selection import train_test_split\n",
    "\n",
    "# `from sklearn.model_selection import train_test_split` is importing the `\n",
    "# train_test_split` function from the `model_selection` module of the `sklearn` library.\n",
    "# This function is commonly used to split a dataset into training and testing sets for machine learning\n",
    "# model training and evaluation.\n",
    "from math import exp\n",
    "\n",
    "plt.rcParams[\"figure.figsize\"] = (10, 6)"
   ]
  },
  {
   "cell_type": "code",
   "execution_count": null,
   "id": "1bdbb1cb",
   "metadata": {},
   "outputs": [],
   "source": [
    "# Load the data\n",
    "\n",
    "data = pd.read_csv(\"Social_Network_Ads.csv\")\n",
    "data.head() # it returns only first five rows"
   ]
  },
  {
   "cell_type": "code",
   "execution_count": null,
   "id": "469ce4d0",
   "metadata": {},
   "outputs": [],
   "source": [
    "# Visualizing the dataset\n",
    "plt.scatter(data['Age'], data['Purchased'])\n",
    "plt.show()\n",
    "\n",
    "# Divide the data to training set and test set\n",
    "X_train, X_test, y_train, y_test = train_test_split(data['Age'], data['Purchased'], test_size=0.20)\n"
   ]
  },
  {
   "cell_type": "code",
   "execution_count": null,
   "id": "38c6f221",
   "metadata": {},
   "outputs": [],
   "source": [
    "# Creating the logistic regression model\n",
    "\n",
    "\n",
    "# Helper function to normalize data\n",
    "def normalize(X):\n",
    "    return X - X.mean()\n",
    "\n",
    "\n",
    "# Method to make predictions\n",
    "def predict(X, b0, b1):\n",
    "    return np.array([1 / (1 + exp(-1 * b0 + -1 * b1 * x)) for x in X])\n",
    "\n",
    "\n",
    "# Method to train the model\n",
    "def logistic_regression(X, Y):\n",
    "\n",
    "    X = normalize(X)\n",
    "\n",
    "    # Initializing variables\n",
    "    b0 = 0\n",
    "    b1 = 0\n",
    "    L = 0.001\n",
    "    epochs = 300\n",
    "\n",
    "    # The line `for epoch in range(epochs):` is setting up a loop that iterates over a specified number\n",
    "    # of epochs. In this context, an epoch refers to a complete pass through the entire dataset during\n",
    "    # the training process of the logistic regression model. The loop allows the model to update its\n",
    "    # parameters iteratively over multiple epochs in order to minimize the loss function and improve\n",
    "    # the model's predictive performance.\n",
    "    for epoch in range(epochs):\n",
    "        y_pred = predict(X, b0, b1)\n",
    "        D_b0 = -2 * sum(\n",
    "            (Y - y_pred) * y_pred * (1 - y_pred)\n",
    "        )  # Derivative of loss wrt b0\n",
    "        D_b1 = -2 * sum(\n",
    "            X * (Y - y_pred) * y_pred * (1 - y_pred)\n",
    "        )  # Derivative of loss wrt b1\n",
    "        # Update b0 and b1\n",
    "        b0 = b0 - L * D_b0\n",
    "        b1 = b1 - L * D_b1\n",
    "\n",
    "    return b0, b1"
   ]
  },
  {
   "cell_type": "code",
   "execution_count": null,
   "id": "4f7f88ae",
   "metadata": {},
   "outputs": [],
   "source": [
    "# Training the model\n",
    "# `b0, b1 = logistic_regression(X_train, y_train)` is training a logistic regression model using \n",
    "# the training data `X_train` and `y_train`. The function `logistic_regression` returns the \n",
    "# coefficients `b0` and `b1` that define the logistic regression model. These coefficients are \n",
    "# used to make predictions on new data points.\n",
    "b0, b1 = logistic_regression(X_train, y_train)\n",
    "\n",
    "# Making predictions\n",
    "X_test_norm = normalize(X_test)\n",
    "y_pred = predict(X_test_norm, b0, b1)\n",
    "y_pred = [1 if p >= 0.5 else 0 for p in y_pred]\n",
    "\n",
    "plt.clf()\n",
    "plt.scatter(X_test, y_test)\n",
    "plt.scatter(X_test, y_pred, c=\"red\")\n",
    "plt.show()\n",
    "\n"
   ]
  },
  {
   "cell_type": "code",
   "execution_count": null,
   "id": "4559a114",
   "metadata": {},
   "outputs": [],
   "source": [
    "from sklearn.metrics import confusion_matrix\n",
    "confusion_matrix(y_test, y_pred)\n"
   ]
  },
  {
   "cell_type": "code",
   "execution_count": null,
   "id": "5cf19f19",
   "metadata": {},
   "outputs": [],
   "source": [
    "#another way to print TP,FN,FP,TN\n",
    "tp, fn, fp, tn = confusion_matrix(y_test, y_pred,labels=[1,0]).reshape(-1)\n",
    "print('Outcome values : \\n', tp, fn, fp, tn)"
   ]
  },
  {
   "cell_type": "code",
   "execution_count": null,
   "id": "b046f9e5",
   "metadata": {},
   "outputs": [],
   "source": [
    "from sklearn.metrics import accuracy_score\n",
    "from sklearn.metrics import classification_report\n",
    "results = confusion_matrix(y_test, y_pred)\n",
    "print ('Confusion Matrix :')\n",
    "print(results)\n",
    "print ('Accuracy Score :',accuracy_score(y_test, y_pred))\n",
    "print('Classification Report : ')\n",
    "print (classification_report(y_test, y_pred))"
   ]
  },
  {
   "cell_type": "code",
   "execution_count": null,
   "id": "bdd07ab2",
   "metadata": {},
   "outputs": [],
   "source": [
    "#error rate\n",
    "Accuracy=accuracy_score(y_test, y_pred)\n",
    "print(Accuracy)\n",
    "Error_rate=1-Accuracy\n",
    "print(Error_rate)"
   ]
  }
 ],
 "metadata": {
  "kernelspec": {
   "display_name": "Python 3 (ipykernel)",
   "language": "python",
   "name": "python3"
  },
  "language_info": {
   "codemirror_mode": {
    "name": "ipython",
    "version": 3
   },
   "file_extension": ".py",
   "mimetype": "text/x-python",
   "name": "python",
   "nbconvert_exporter": "python",
   "pygments_lexer": "ipython3",
   "version": "3.11.0"
  }
 },
 "nbformat": 4,
 "nbformat_minor": 5
}
