{
 "cells": [
  {
   "cell_type": "code",
   "execution_count": null,
   "id": "eab97816",
   "metadata": {},
   "outputs": [],
   "source": [
    "import pandas as pd\n",
    "d = pd.read_csv(\"Iris.csv\")\n",
    "print('Iris-setosa')\n",
    "print(d)\n"
   ]
  },
  {
   "cell_type": "code",
   "execution_count": null,
   "id": "12b46c7a",
   "metadata": {},
   "outputs": [],
   "source": [
    "# The line `setosa = d['species'] == 'Iris-setosa'` is creating a boolean mask based on the\n",
    "# condition that checks if the value in the 'species' column of the DataFrame `d` is equal\n",
    "# to 'Iris-setosa'.\n",
    "setosa = d[\"species\"] == \"Iris-setosa\"\n",
    "print(d[setosa].describe())\n",
    "print(\"\\nIris-versicolor\")\n",
    "setosa = d[\"species\"] == \"Iris-versicolor\"\n",
    "print(d[setosa].describe())\n",
    "print(\"\\nIris-virginica\")\n",
    "setosa = d[\"species\"] == \"Iris-virginica\"\n",
    "print(d[setosa])\n",
    "print(d[setosa].describe())"
   ]
  },
  {
   "cell_type": "code",
   "execution_count": null,
   "id": "8c973c35",
   "metadata": {},
   "outputs": [],
   "source": [
    "#species\n",
    "d.groupby([\"species\"])[\"SepalLengthCm\"].mean()"
   ]
  },
  {
   "cell_type": "code",
   "execution_count": null,
   "id": "7eac658e",
   "metadata": {},
   "outputs": [],
   "source": [
    "d.groupby([\"species\"])[\"SepalLengthCm\"].std()"
   ]
  },
  {
   "cell_type": "code",
   "execution_count": null,
   "id": "489efbd9",
   "metadata": {},
   "outputs": [],
   "source": [
    "d.groupby([\"species\"])[\"SepalLengthCm\"].describe()"
   ]
  },
  {
   "cell_type": "code",
   "execution_count": null,
   "id": "ffa7d218",
   "metadata": {},
   "outputs": [],
   "source": [
    "d.groupby([\"species\"])[\"SepalLengthCm\"].quantile(q=0.75)"
   ]
  },
  {
   "cell_type": "code",
   "execution_count": null,
   "id": "0e4fbae9",
   "metadata": {},
   "outputs": [],
   "source": [
    "d.groupby([\"species\"])[\"SepalLengthCm\"].quantile(q=0.25)\n"
   ]
  },
  {
   "cell_type": "code",
   "execution_count": null,
   "id": "d7316a69",
   "metadata": {},
   "outputs": [],
   "source": [
    "d.groupby([\"species\"])[\"SepalLengthCm\"].quantile(q=0.50)"
   ]
  },
  {
   "cell_type": "code",
   "execution_count": null,
   "id": "7235cb80",
   "metadata": {},
   "outputs": [],
   "source": [
    "a=d.groupby([\"species\"])[\"SepalLengthCm\"].mean()\n",
    "print(a)"
   ]
  },
  {
   "cell_type": "code",
   "execution_count": null,
   "id": "bd83f791",
   "metadata": {},
   "outputs": [],
   "source": [
    "b=d.groupby([\"species\"])[\"SepalLengthCm\"].median()\n",
    "print(b)"
   ]
  },
  {
   "cell_type": "code",
   "execution_count": null,
   "id": "a1778161",
   "metadata": {},
   "outputs": [],
   "source": [
    "list=[a,b]"
   ]
  },
  {
   "cell_type": "code",
   "execution_count": null,
   "id": "c59e4219",
   "metadata": {},
   "outputs": [],
   "source": [
    "print(list)"
   ]
  }
 ],
 "metadata": {
  "kernelspec": {
   "display_name": "Python 3 (ipykernel)",
   "language": "python",
   "name": "python3"
  },
  "language_info": {
   "codemirror_mode": {
    "name": "ipython",
    "version": 3
   },
   "file_extension": ".py",
   "mimetype": "text/x-python",
   "name": "python",
   "nbconvert_exporter": "python",
   "pygments_lexer": "ipython3",
   "version": "3.11.0"
  }
 },
 "nbformat": 4,
 "nbformat_minor": 5
}
