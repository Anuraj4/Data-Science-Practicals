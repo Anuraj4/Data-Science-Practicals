{
 "cells": [
  {
   "cell_type": "code",
   "execution_count": null,
   "id": "2b1f68be",
   "metadata": {},
   "outputs": [],
   "source": [
    "#notes\n",
    "#there are 3 types of machine learning algorithms\n",
    "#1) Supervised 2) unsupervised 3) Reinforcement Learning"
   ]
  },
  {
   "cell_type": "code",
   "execution_count": null,
   "id": "59be17d9",
   "metadata": {},
   "outputs": [],
   "source": [
    "# Notes\n",
    "# Linear regression in data science is a method to find the best-fitting straight line that\n",
    "# describes the relationship between variables, aiming to predict the dependent variable based\n",
    "# on one or more independent variables."
   ]
  },
  {
   "cell_type": "code",
   "execution_count": null,
   "id": "b11926e0",
   "metadata": {},
   "outputs": [],
   "source": [
    "import numpy as np\n",
    "import pandas as pd\n",
    "from sklearn import datasets\n",
    "from sklearn.linear_model import LinearRegression\n",
    "from sklearn.model_selection import train_test_split"
   ]
  },
  {
   "cell_type": "code",
   "execution_count": null,
   "id": "83a44ad0",
   "metadata": {},
   "outputs": [],
   "source": [
    "#loading the dataset directly from sklearn\n",
    "boston = datasets.load_iris()"
   ]
  },
  {
   "cell_type": "code",
   "execution_count": null,
   "id": "5d1d7d8e",
   "metadata": {},
   "outputs": [],
   "source": [
    "print(boston)"
   ]
  },
  {
   "cell_type": "code",
   "execution_count": null,
   "id": "418d30c6",
   "metadata": {},
   "outputs": [],
   "source": [
    "bos = pd.DataFrame(boston.data, columns=boston.feature_names)\n",
    "bos['PRICE'] = pd.DataFrame(boston.target)"
   ]
  },
  {
   "cell_type": "code",
   "execution_count": null,
   "id": "0aba7225",
   "metadata": {},
   "outputs": [],
   "source": [
    "bos.describe()"
   ]
  },
  {
   "cell_type": "code",
   "execution_count": null,
   "id": "f7cc070b",
   "metadata": {},
   "outputs": [],
   "source": [
    "#sklearn returns Dictionary-like object, the interesting attributes are: ‘data’, the data to learn, ‘target’, the regression targets, ‘DESCR’, the full description of the dataset, and ‘filename’, the physical location of boston csv dataset. "
   ]
  },
  {
   "cell_type": "code",
   "execution_count": null,
   "id": "a39d3433",
   "metadata": {},
   "outputs": [],
   "source": [
    "print(type(boston))\n",
    "print('\\n')\n",
    "print(boston.keys())\n",
    "print('\\n')\n",
    "print(boston.data.shape)\n",
    "print('\\n')\n",
    "print(boston.feature_names)"
   ]
  },
  {
   "cell_type": "code",
   "execution_count": 1,
   "id": "b5bbc6fe",
   "metadata": {},
   "outputs": [
    {
     "ename": "NameError",
     "evalue": "name 'boston' is not defined",
     "output_type": "error",
     "traceback": [
      "\u001b[1;31m---------------------------------------------------------------------------\u001b[0m",
      "\u001b[1;31mNameError\u001b[0m                                 Traceback (most recent call last)",
      "Cell \u001b[1;32mIn[1], line 2\u001b[0m\n\u001b[0;32m      1\u001b[0m \u001b[38;5;66;03m#The details about the features and more information about the dataset can be seen by using boston.DESCR\u001b[39;00m\n\u001b[1;32m----> 2\u001b[0m \u001b[38;5;28mprint\u001b[39m(\u001b[43mboston\u001b[49m\u001b[38;5;241m.\u001b[39mDESCR)\n",
      "\u001b[1;31mNameError\u001b[0m: name 'boston' is not defined"
     ]
    }
   ],
   "source": [
    "#The details about the features and more information about the dataset can be seen by using boston.DESCR\n",
    "print(boston.DESCR)\n"
   ]
  },
  {
   "cell_type": "code",
   "execution_count": null,
   "id": "b8dbb17a",
   "metadata": {},
   "outputs": [],
   "source": [
    "# Before applying any model we have to convert this to a pandas dataframe,\n",
    "# which we can do by calling the dataframe on boston.data. We also adds the target variable to the dataframe from boston.target\n",
    "bos = pd.DataFrame(boston.data, columns=boston.feature_names)\n",
    "bos[\"PRICE\"] = pd.DataFrame(boston.target)\n",
    "print(bos.head())"
   ]
  },
  {
   "cell_type": "code",
   "execution_count": null,
   "id": "2ab58a00",
   "metadata": {},
   "outputs": [],
   "source": [
    "#Get some statistics from dataset\n",
    "print(bos.describe())\n"
   ]
  },
  {
   "cell_type": "code",
   "execution_count": null,
   "id": "33a3f893",
   "metadata": {},
   "outputs": [],
   "source": [
    "#initialize linear regression model\n",
    "reg=LinearRegression()"
   ]
  },
  {
   "cell_type": "code",
   "execution_count": null,
   "id": "1e487e2e",
   "metadata": {},
   "outputs": [],
   "source": [
    "#split into training-80% & testing data-20%\n",
    "X_train, X_test, Y_train, Y_test = train_test_split(bos, bos['PRICE'], test_size = 0.20,random_state=10)\n",
    "\n"
   ]
  },
  {
   "cell_type": "code",
   "execution_count": null,
   "id": "2e901075",
   "metadata": {},
   "outputs": [],
   "source": [
    "len(X_train)\n"
   ]
  },
  {
   "cell_type": "code",
   "execution_count": null,
   "id": "4bcf4620",
   "metadata": {},
   "outputs": [],
   "source": [
    "len(X_test)"
   ]
  },
  {
   "cell_type": "code",
   "execution_count": null,
   "id": "264a5a39",
   "metadata": {},
   "outputs": [],
   "source": [
    "\n",
    "print(X_train.shape)\n",
    "print(X_test.shape)\n",
    "print(Y_train.shape)\n",
    "print(Y_test.shape)"
   ]
  },
  {
   "cell_type": "code",
   "execution_count": null,
   "id": "4a0b24cb",
   "metadata": {},
   "outputs": [],
   "source": [
    "#train model with our training data\n",
    "reg.fit(X_train,Y_train)\n"
   ]
  },
  {
   "cell_type": "code",
   "execution_count": null,
   "id": "988d136c",
   "metadata": {},
   "outputs": [],
   "source": [
    "#print predictions on our test data\n",
    "y=reg.predict(X_test)\n",
    "print(y)"
   ]
  },
  {
   "cell_type": "code",
   "execution_count": null,
   "id": "03aef33e",
   "metadata": {},
   "outputs": [],
   "source": [
    "#actucal values\n",
    "print(Y_test)"
   ]
  },
  {
   "cell_type": "code",
   "execution_count": null,
   "id": "3ef567be",
   "metadata": {
    "scrolled": true
   },
   "outputs": [],
   "source": [
    "from sklearn.metrics import mean_squared_error\n",
    "y = reg.predict(X_test)\n",
    "rmse = (np.sqrt(mean_squared_error(Y_test, y)))\n",
    "r2 = round(reg.score(X_test, Y_test),2)\n",
    "\n",
    "print(\"The model performance for training set\")\n",
    "print(\"--------------------------------------\")\n",
    "print(\"Root Mean Squared Error: {}\".format(rmse))\n",
    "print(\"R^2: {}\".format(r2))\n",
    "print(\"\\n\")"
   ]
  },
  {
   "cell_type": "code",
   "execution_count": null,
   "id": "37363ec0",
   "metadata": {},
   "outputs": [],
   "source": []
  }
 ],
 "metadata": {
  "kernelspec": {
   "display_name": "Python 3 (ipykernel)",
   "language": "python",
   "name": "python3"
  },
  "language_info": {
   "codemirror_mode": {
    "name": "ipython",
    "version": 3
   },
   "file_extension": ".py",
   "mimetype": "text/x-python",
   "name": "python",
   "nbconvert_exporter": "python",
   "pygments_lexer": "ipython3",
   "version": "3.11.0"
  }
 },
 "nbformat": 4,
 "nbformat_minor": 5
}
