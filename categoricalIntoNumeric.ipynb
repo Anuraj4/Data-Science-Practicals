{
 "cells": [
  {
   "cell_type": "code",
   "execution_count": 1,
   "metadata": {},
   "outputs": [
    {
     "name": "stdout",
     "output_type": "stream",
     "text": [
      "   Gender_Female  Gender_Male  City_London  City_New York  City_Paris\n",
      "0          False         True        False           True       False\n",
      "1           True        False         True          False       False\n",
      "2          False         True        False          False        True\n",
      "3           True        False        False           True       False\n"
     ]
    }
   ],
   "source": [
    "import pandas as pd\n",
    "\n",
    "# Sample dataset\n",
    "data = {\n",
    "    \"Gender\": [\"Male\", \"Female\", \"Male\", \"Female\"],\n",
    "    \"City\": [\"New York\", \"London\", \"Paris\", \"New York\"],\n",
    "}\n",
    "\n",
    "# Create DataFrame\n",
    "df = pd.DataFrame(data)\n",
    "\n",
    "# Use get_dummies() to convert categorical variables into dummy variables\n",
    "dummy_df = pd.get_dummies(df)\n",
    "\n",
    "# Print the resulting DataFrame\n",
    "print(dummy_df)"
   ]
  }
 ],
 "metadata": {
  "kernelspec": {
   "display_name": "Python 3",
   "language": "python",
   "name": "python3"
  },
  "language_info": {
   "codemirror_mode": {
    "name": "ipython",
    "version": 3
   },
   "file_extension": ".py",
   "mimetype": "text/x-python",
   "name": "python",
   "nbconvert_exporter": "python",
   "pygments_lexer": "ipython3",
   "version": "3.11.0"
  }
 },
 "nbformat": 4,
 "nbformat_minor": 2
}
