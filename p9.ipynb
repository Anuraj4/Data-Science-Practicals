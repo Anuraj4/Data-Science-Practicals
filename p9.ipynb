{
 "cells": [
  {
   "cell_type": "code",
   "execution_count": null,
   "id": "8467f136",
   "metadata": {},
   "outputs": [],
   "source": [
    "# Problem statement:-\n",
    "# 1. Use the inbuilt dataset 'titanic' as used in the above problem. Plot a box plot for distribution of age with\n",
    "# respect to each gender along with the information about whether they survived or not. (Column names : 'sex'\n",
    "# and 'age')\n",
    "# 2. Write observations on the inference from the above statistics"
   ]
  },
  {
   "cell_type": "code",
   "execution_count": null,
   "id": "ca6a186d",
   "metadata": {},
   "outputs": [],
   "source": [
    "import pandas as pd\n",
    "import numpy as np\n",
    "import matplotlib.pyplot as plt\n",
    "import seaborn as sn\n",
    "\n",
    "dataset = sn.load_dataset('titanic')\n",
    "\n",
    "print(dataset)"
   ]
  },
  {
   "cell_type": "code",
   "execution_count": null,
   "id": "8ea8fc14",
   "metadata": {},
   "outputs": [],
   "source": [
    "dataset.head()"
   ]
  },
  {
   "cell_type": "code",
   "execution_count": null,
   "id": "4c6c9658",
   "metadata": {},
   "outputs": [],
   "source": [
    "sn.barplot(x='sex', y='age',data=dataset)"
   ]
  },
  {
   "cell_type": "code",
   "execution_count": null,
   "id": "a19a4e19",
   "metadata": {},
   "outputs": [],
   "source": [
    "sn.boxplot(x = 'sex', y = 'age',data = dataset)"
   ]
  },
  {
   "cell_type": "code",
   "execution_count": null,
   "id": "c815b438",
   "metadata": {},
   "outputs": [],
   "source": [
    "sn.boxplot(x='sex', y='age',hue='survived',data=dataset)"
   ]
  },
  {
   "cell_type": "code",
   "execution_count": null,
   "id": "6ac55d6f",
   "metadata": {},
   "outputs": [],
   "source": [
    "#another way\n",
    "sn.boxplot(dataset['sex'], dataset[\"age\"], dataset[\"survived\"])\n"
   ]
  },
  {
   "cell_type": "code",
   "execution_count": null,
   "id": "2b002cb0",
   "metadata": {},
   "outputs": [],
   "source": [
    "dataset.groupby(\"sex\")[\"survived\"].value_counts()"
   ]
  },
  {
   "cell_type": "code",
   "execution_count": null,
   "id": "71491d7e",
   "metadata": {},
   "outputs": [],
   "source": [
    "sn.violinplot(x='sex', y='age', data=dataset)"
   ]
  },
  {
   "cell_type": "code",
   "execution_count": null,
   "id": "0793b05c",
   "metadata": {},
   "outputs": [],
   "source": [
    "sn.violinplot(x='sex', y='age', data=dataset, hue='survived')"
   ]
  },
  {
   "cell_type": "code",
   "execution_count": null,
   "id": "3fadf439",
   "metadata": {},
   "outputs": [],
   "source": []
  }
 ],
 "metadata": {
  "kernelspec": {
   "display_name": "Python 3 (ipykernel)",
   "language": "python",
   "name": "python3"
  },
  "language_info": {
   "codemirror_mode": {
    "name": "ipython",
    "version": 3
   },
   "file_extension": ".py",
   "mimetype": "text/x-python",
   "name": "python",
   "nbconvert_exporter": "python",
   "pygments_lexer": "ipython3",
   "version": "3.11.0"
  }
 },
 "nbformat": 4,
 "nbformat_minor": 5
}
