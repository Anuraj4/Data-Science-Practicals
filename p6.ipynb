{
 "cells": [
  {
   "cell_type": "code",
   "execution_count": null,
   "id": "549eed70",
   "metadata": {},
   "outputs": [],
   "source": [
    "# Problem statement:- Implement simple Naive Bayes classificatioin algorithm on given dataset\n",
    "# Compute confusion matrix to find tp.fp.tn.fn, accuraccy and other."
   ]
  },
  {
   "cell_type": "code",
   "execution_count": null,
   "id": "afd0107d",
   "metadata": {},
   "outputs": [],
   "source": [
    "# Notes\n",
    "# In machine learning, Naïve Bayes classification is a straightforward and powerful algorithm for the\n",
    "# classification task. Naïve Bayes classification is based on applying Bayes’ theorem with strong independence\n",
    "# assumption between the features. Naïve Bayes classification produces good results when we use it for textual\n",
    "# data analysis such as Natural Language Processing.\n",
    "\n",
    "# there are 3 types of the Naive Bayes thorem\n",
    "# 1) Gaussian Naive Bayes\n",
    "# 2) Multinomial Naive Bayes\n",
    "# 3) Bernoulli Naive Bayes"
   ]
  },
  {
   "cell_type": "code",
   "execution_count": null,
   "id": "758ea1f4",
   "metadata": {},
   "outputs": [],
   "source": [
    "# Notes\n",
    "# Naive bayes classification is an Supervised learning algorithm\n",
    "# It is based on Bayes Theorem.\n",
    "# Supervised learning means predicting an output basdd on input-output pairs\n",
    "# Feedback is provided during training\n",
    "# Example of supervised learning is that the email is spam or not spam\n"
   ]
  },
  {
   "cell_type": "code",
   "execution_count": null,
   "id": "eee23f9a",
   "metadata": {
    "id": "eee23f9a"
   },
   "outputs": [],
   "source": [
    "# Importing the libraries\n",
    "import numpy as np\n",
    "import matplotlib.pyplot as plt\n",
    "import matplotlib.image as mpimg\n",
    "import pandas as pd\n",
    "import seaborn as sns"
   ]
  },
  {
   "cell_type": "code",
   "execution_count": null,
   "id": "d12dc46c",
   "metadata": {
    "colab": {
     "base_uri": "https://localhost:8080/",
     "height": 223
    },
    "id": "d12dc46c",
    "outputId": "91e31490-67a9-4cf8-acab-28b852d144bd"
   },
   "outputs": [],
   "source": [
    "# Load the data\n",
    "#from google.colab import drive\n",
    "#drive.mount('/content/drive/')\n",
    "path=\"iris.csv\"\n",
    "data= pd.read_csv(path)\n",
    "data.head()"
   ]
  },
  {
   "cell_type": "code",
   "execution_count": null,
   "id": "c20fb668",
   "metadata": {
    "id": "c20fb668"
   },
   "outputs": [],
   "source": [
    "#Spliting the dataset in independent and dependent variables\n",
    "X = data.iloc[:,:4].values\n",
    "y = data['species'].values"
   ]
  },
  {
   "cell_type": "code",
   "execution_count": null,
   "id": "094ac310",
   "metadata": {
    "id": "094ac310"
   },
   "outputs": [],
   "source": [
    "# Splitting the dataset into the Training set and Test set\n",
    "from sklearn.model_selection import train_test_split\n",
    "\n",
    "# Assuming X and y are already defined\n",
    "\n",
    "X_train, X_test, y_train, y_test = train_test_split(X, y, test_size=0.20, random_state=8)\n"
   ]
  },
  {
   "cell_type": "code",
   "execution_count": null,
   "id": "bb39325a",
   "metadata": {
    "id": "bb39325a"
   },
   "outputs": [],
   "source": [
    "# Feature Scaling to bring the variable in a single scale\n",
    "#from sklearn.preprocessing import StandardScaler\n",
    "#sc = StandardScaler()\n",
    "#X_train = sc.fit_transform(X_train)\n",
    "#X_test = sc.transform(X_test)"
   ]
  },
  {
   "cell_type": "code",
   "execution_count": null,
   "id": "29c0723a",
   "metadata": {
    "colab": {
     "base_uri": "https://localhost:8080/"
    },
    "id": "29c0723a",
    "outputId": "46d9c01e-b5ef-40e9-b9d9-9272935e5c0a"
   },
   "outputs": [],
   "source": [
    "# Fitting Naive Bayes Classification to the Training set with linear kernel\n",
    "from sklearn.naive_bayes import GaussianNB\n",
    "nvclassifier = GaussianNB()\n",
    "nvclassifier.fit(X_train, y_train)"
   ]
  },
  {
   "cell_type": "code",
   "execution_count": null,
   "id": "30a5b7e3",
   "metadata": {
    "colab": {
     "base_uri": "https://localhost:8080/"
    },
    "id": "30a5b7e3",
    "outputId": "4e973770-925c-4307-b8cc-da93c4fc41da"
   },
   "outputs": [],
   "source": [
    "# Predicting the Test set results\n",
    "y_pred = nvclassifier.predict(X_test)\n",
    "print(y_pred)"
   ]
  },
  {
   "cell_type": "code",
   "execution_count": null,
   "id": "e4b69586",
   "metadata": {
    "colab": {
     "base_uri": "https://localhost:8080/"
    },
    "id": "e4b69586",
    "outputId": "f0c3a63c-6f2c-4694-ff22-00029b9b0ed8"
   },
   "outputs": [],
   "source": [
    "#lets see the actual and predicted value side by side\n",
    "y_compare = np.vstack((y_test,y_pred)).T\n",
    "#actual value on the left side and predicted value on the right hand side\n",
    "#printing the top 5 values\n",
    "y_compare[:5,:]"
   ]
  },
  {
   "cell_type": "code",
   "execution_count": null,
   "id": "98bc4733",
   "metadata": {
    "colab": {
     "base_uri": "https://localhost:8080/",
     "height": 347
    },
    "id": "98bc4733",
    "outputId": "75517c24-7a3a-4b8b-b5fd-0dd56c2471e0"
   },
   "outputs": [],
   "source": [
    "# Making the Confusion Matrix\n",
    "from sklearn.metrics import confusion_matrix\n",
    "cm = confusion_matrix(y_test, y_pred)\n",
    "sns.heatmap(cm,annot=True)\n",
    "plt.xlabel(\"Predicted Label\")\n",
    "plt.ylabel(\"Actual Label\")\n",
    "plt.title(\"Confusion Matrix\")\n",
    "plt.show()\n",
    "print(cm)"
   ]
  },
  {
   "cell_type": "code",
   "execution_count": null,
   "id": "c2f23db0",
   "metadata": {
    "colab": {
     "base_uri": "https://localhost:8080/"
    },
    "id": "c2f23db0",
    "outputId": "b8989db5-fcef-4230-926b-c2fceca6a8d6"
   },
   "outputs": [],
   "source": [
    "from sklearn.metrics import accuracy_score\n",
    "from sklearn.metrics import classification_report\n",
    "from sklearn.metrics import confusion_matrix\n",
    "results = confusion_matrix(y_test, y_pred)\n",
    "print ('Confusion Matrix :')\n",
    "print(results)\n",
    "print ('Accuracy Score :',accuracy_score(y_test, y_pred))\n",
    "print('Classification Report : ')\n",
    "print (classification_report(y_test, y_pred))"
   ]
  },
  {
   "cell_type": "code",
   "execution_count": null,
   "id": "660c520a",
   "metadata": {
    "colab": {
     "base_uri": "https://localhost:8080/"
    },
    "id": "660c520a",
    "outputId": "54a61a12-50ef-477c-f36d-edc6c65e2268"
   },
   "outputs": [],
   "source": [
    "#error rate\n",
    "Accuracy=accuracy_score(y_test, y_pred)\n",
    "print(Accuracy)\n",
    "Error_rate=1-Accuracy\n",
    "print(Error_rate)"
   ]
  }
 ],
 "metadata": {
  "colab": {
   "name": "Experiment_No-6_new.ipynb",
   "provenance": []
  },
  "kernelspec": {
   "display_name": "Python 3 (ipykernel)",
   "language": "python",
   "name": "python3"
  },
  "language_info": {
   "codemirror_mode": {
    "name": "ipython",
    "version": 3
   },
   "file_extension": ".py",
   "mimetype": "text/x-python",
   "name": "python",
   "nbconvert_exporter": "python",
   "pygments_lexer": "ipython3",
   "version": "3.11.0"
  }
 },
 "nbformat": 4,
 "nbformat_minor": 5
}
