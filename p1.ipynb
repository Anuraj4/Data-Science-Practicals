{
 "cells": [
  {
   "cell_type": "code",
   "execution_count": null,
   "metadata": {},
   "outputs": [],
   "source": [
    "# Problem statement:- \n",
    "# Perform the following operations using Python on any open source dataset (e.g., data.csv)\n",
    "# 1. Import all the required Python Libraries.\n",
    "# 2. Locate an open source data from the web (e.g., https://www.kaggle.com). Provide a clear description of the\n",
    "# data and its source (i.e., URL of the web site).\n",
    "# 3. Load the Dataset into pandas dataframe.\n",
    "# 4. Data Preprocessing: check for missing values in the data using pandas isnull(), describe() function to get\n",
    "# some initial statistics. Provide variable descriptions. Types of variables etc. Check the dimensions of the\n",
    "# data frame.\n",
    "# 5. Data Formatting and Data Normalization: Summarize the types of variables by checking the data types (i.e.,\n",
    "# character, numeric, integer, factor, and logical) of the variables in the data set. If variables are not in the\n",
    "# correct data type, apply proper type conversions.\n",
    "# 6. Turn categorical variables into quantitative variables in Python."
   ]
  },
  {
   "cell_type": "code",
   "execution_count": null,
   "metadata": {},
   "outputs": [],
   "source": [
    "# Data wrangling steps:-\n",
    "# 1) Discovering\n",
    "# 2) Structuring\n",
    "# 3) Cleaning\n",
    "# 4) Enreaching\n",
    "# 5) Validating\n",
    "# 6) Publishing"
   ]
  },
  {
   "cell_type": "code",
   "execution_count": null,
   "metadata": {},
   "outputs": [],
   "source": [
    "# Data normalization:-\n",
    "\n",
    "# Data normalization is the process of scaling numeric data to a standard range to ensure consistency \n",
    "# and comparability between different features or variables in a dataset. It typically involves \n",
    "# transforming the data so that it falls within a specific range, often between 0 and 1 or with a \n",
    "# mean of 0 and a standard deviation of 1. This helps in reducing the impact of varying scales and \n",
    "# units on the analysis and modeling process\n",
    "\n",
    "# There are two methods for the data normalization:-\n",
    "# 1) MinMax Scaling\n",
    "# 2) Z-Score normalization"
   ]
  },
  {
   "cell_type": "code",
   "execution_count": null,
   "metadata": {},
   "outputs": [],
   "source": [
    "# Formulae:-\n",
    "# 1) MinMax Scaling:-\n",
    "# Xnormalize = (X - Xmin)/(Xmax - Xmin)\n",
    "\n",
    "# 2) Z-Score:-\n",
    "# Z= (x-mean)/standard deviation"
   ]
  },
  {
   "cell_type": "code",
   "execution_count": null,
   "metadata": {},
   "outputs": [],
   "source": [
    "import pandas as pd  \n",
    "\n",
    "df = pd.read_csv(\"movies.csv\")\n",
    "df1 = df.isnull().sum()\n",
    "print(df1)\n",
    "# df2 = df.fillna(8)h\n",
    "# `# df3 = df.describe()` is a Python code snippet that is currently commented out. When this line is\n",
    "# uncommented and executed, it will generate a statistical summary of the numerical columns in the\n",
    "# DataFrame `df`. The `describe()` method provides statistics such as count, mean, standard deviation,\n",
    "# minimum, maximum, and various quantiles for each numerical column in the DataFrame.\n",
    "# df3 = df.describe()\n",
    "# df4 = df.info()\n",
    "# df5 = df.shape\n",
    "# df6 = df.size\n",
    "# df7 = df.dtypes\n",
    "# df['RATING'] = df['RATING'].astype('int')\n"
   ]
  },
  {
   "cell_type": "code",
   "execution_count": null,
   "metadata": {},
   "outputs": [],
   "source": [
    "df8 = df.isnull()\n",
    "print(df8)"
   ]
  },
  {
   "cell_type": "code",
   "execution_count": null,
   "metadata": {},
   "outputs": [],
   "source": [
    "# `df3 = df.describe()` is a pandas method that generates descriptive statistics of the DataFrame `df`\n",
    "# such as count, mean, standard deviation, minimum, maximum, and quartile values.\n",
    "# The result is stored in a new DataFrame `df3`, which can then be printed or used for further analysis.\n",
    "df3 = df.describe()\n",
    "print(df3)"
   ]
  },
  {
   "cell_type": "code",
   "execution_count": null,
   "metadata": {},
   "outputs": [],
   "source": [
    "df9 = df.shape\n",
    "print(df9)\n",
    "# it checks the dimensions of the DataFrame"
   ]
  },
  {
   "cell_type": "code",
   "execution_count": null,
   "metadata": {},
   "outputs": [],
   "source": [
    "df6 = df.size\n",
    "print(df6)\n",
    "# if gives total number of elements from the DataSet"
   ]
  },
  {
   "cell_type": "code",
   "execution_count": null,
   "metadata": {},
   "outputs": [],
   "source": [
    "# `df7 = df.dtypes` is assigning the data types of each column in the DataFrame `df`\n",
    "# to the variable `df7`. This means that `df7` will now contain a Series object with\n",
    "# the data types of each column in `df`.\n",
    "df7 = df.dtypes\n",
    "\n",
    "print(df7)"
   ]
  },
  {
   "cell_type": "code",
   "execution_count": null,
   "metadata": {},
   "outputs": [],
   "source": [
    "len(df)"
   ]
  }
 ],
 "metadata": {
  "kernelspec": {
   "display_name": "Python 3",
   "language": "python",
   "name": "python3"
  },
  "language_info": {
   "codemirror_mode": {
    "name": "ipython",
    "version": 3
   },
   "file_extension": ".py",
   "mimetype": "text/x-python",
   "name": "python",
   "nbconvert_exporter": "python",
   "pygments_lexer": "ipython3",
   "version": "3.11.0"
  }
 },
 "nbformat": 4,
 "nbformat_minor": 2
}
