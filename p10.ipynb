{
 "cells": [
  {
   "cell_type": "code",
   "execution_count": null,
   "id": "eefb07b9",
   "metadata": {},
   "outputs": [],
   "source": [
    "# Problem statement:- \n",
    "# Download the Iris flower dataset or any other dataset into a DataFrame.(e.g., \n",
    "# https://archive.ics.uci.edu/ml/datasets/Iris). Scan the dataset and give the inference as:\n",
    "# 1. List down the features and their types (e.g., numeric, nominal) available in the dataset.\n",
    "# 2. Create a histogram for each feature in the dataset to illustrate the feature distributions.\n",
    "# 3. Create a boxplot for each feature in the dataset.\n",
    "# 4. Compare distributions and identify outliers."
   ]
  },
  {
   "cell_type": "code",
   "execution_count": null,
   "id": "474e363d",
   "metadata": {},
   "outputs": [],
   "source": [
    "# Notes:-\n",
    "# Pandas.DataFrame.hist() function is useful in understanding the distribution of numeric variables. This \n",
    "# function splits up the values into the numeric variables. Its main functionality is to make the Histogram of a \n",
    "# given Data frame.\n",
    "# The distribution of data is represented by Histogram. When Function Pandas DataFrame.hist() is used, it \n",
    "# automatically calls the function matplotlib.pyplot.hist() on each series in the DataFrame"
   ]
  },
  {
   "cell_type": "code",
   "execution_count": null,
   "id": "53fba7f2",
   "metadata": {},
   "outputs": [],
   "source": [
    "# Boxplot:- Box Plot is the visual representation of the depicting groups of numerical data through their quartiles. Boxplot \n",
    "# is also used for detect the outlier in data set. It captures the summary of the data efficiently with a simple box \n",
    "# and whiskers and allows us to compare easily across groups. Boxplot summarizes a sample data using 25th, \n",
    "# 50th and 75th percentiles. These percentiles are also known as the lower quartile, median and upper quartile"
   ]
  },
  {
   "cell_type": "code",
   "execution_count": null,
   "id": "7104e24a",
   "metadata": {},
   "outputs": [],
   "source": [
    "# Outlier:- Outliers are like the odd ones out in a group of friends—they're data points that are very \n",
    "# different from the others. Just like you'd notice a friend who stands out from the crowd, in data science, \n",
    "# we want to spot these unusual points so they don't mess up our calculations and predictions."
   ]
  },
  {
   "cell_type": "code",
   "execution_count": null,
   "id": "eabe9102",
   "metadata": {},
   "outputs": [],
   "source": [
    "import numpy as np\n",
    "import pandas as pd\n",
    "import matplotlib.pyplot as plt\n",
    "import seaborn as sns"
   ]
  },
  {
   "cell_type": "code",
   "execution_count": null,
   "id": "85b0b589",
   "metadata": {},
   "outputs": [],
   "source": [
    "data1 = pd.read_csv(\"Iris.csv\")\n",
    "data1.head()"
   ]
  },
  {
   "cell_type": "code",
   "execution_count": null,
   "id": "0c6bfea7",
   "metadata": {},
   "outputs": [],
   "source": [
    "print(data1.columns)"
   ]
  },
  {
   "cell_type": "code",
   "execution_count": null,
   "id": "8619f2dc",
   "metadata": {},
   "outputs": [],
   "source": [
    "#anotherway\n",
    "column = list(data1)\n",
    "print(column)"
   ]
  },
  {
   "cell_type": "code",
   "execution_count": null,
   "id": "fd0cb8de",
   "metadata": {
    "scrolled": true
   },
   "outputs": [],
   "source": [
    "data1.info()"
   ]
  },
  {
   "cell_type": "code",
   "execution_count": null,
   "id": "8379a046",
   "metadata": {},
   "outputs": [],
   "source": [
    "data1.dtypes"
   ]
  },
  {
   "cell_type": "code",
   "execution_count": null,
   "id": "1ae46afb",
   "metadata": {},
   "outputs": [],
   "source": [
    "data1.hist()"
   ]
  },
  {
   "cell_type": "code",
   "execution_count": null,
   "id": "13c709ba",
   "metadata": {},
   "outputs": [],
   "source": [
    "fig, axes = plt.subplots(2, 2, figsize=(16, 8))\n",
    "\n",
    "axes[0,0].set_title(\"Distribution of First Column\")\n",
    "axes[0,0].hist(data1[\"SepalLengthCm\"]);\n",
    "\n",
    "axes[0,1].set_title(\"Distribution of Second Column\")\n",
    "axes[0,1].hist(data1[\"SepalWidthCm\"]);\n",
    "\n",
    "axes[1,0].set_title(\"Distribution of Third Column\")\n",
    "axes[1,0].hist(data1[\"PetalLengthCm\"]);\n",
    "\n",
    "axes[1,1].set_title(\"Distribution of Fourth Column\")\n",
    "axes[1,1].hist(data1[\"PetalWidthCm\"]);"
   ]
  },
  {
   "cell_type": "code",
   "execution_count": null,
   "id": "76f2cd80",
   "metadata": {},
   "outputs": [],
   "source": [
    "data1.boxplot()"
   ]
  },
  {
   "cell_type": "code",
   "execution_count": null,
   "id": "31e8df5a",
   "metadata": {},
   "outputs": [],
   "source": [
    "data_to_plot = [data1[\"SepalLengthCm\"],data1[\"SepalWidthCm\"],data1[\"PetalLengthCm\"],data1[\"PetalWidthCm\"]]\n",
    "# Creating a figure instance\n",
    "fig = plt.figure(1, figsize=(12,8))\n",
    "# Creating an axes instance\n",
    "ax = fig.add_subplot(111)\n",
    "# Creating the boxplot\n",
    "bp = ax.boxplot(data_to_plot);"
   ]
  },
  {
   "cell_type": "code",
   "execution_count": null,
   "id": "092ea085",
   "metadata": {},
   "outputs": [],
   "source": [
    "sns.boxplot(data1['SepalWidthCm'])"
   ]
  },
  {
   "cell_type": "code",
   "execution_count": null,
   "id": "4fee0ba6",
   "metadata": {},
   "outputs": [],
   "source": [
    "print(np.where(data1['SepalWidthCm']>4.0))"
   ]
  },
  {
   "cell_type": "code",
   "execution_count": null,
   "id": "e23f2da8",
   "metadata": {},
   "outputs": [],
   "source": []
  }
 ],
 "metadata": {
  "kernelspec": {
   "display_name": "Python 3 (ipykernel)",
   "language": "python",
   "name": "python3"
  },
  "language_info": {
   "codemirror_mode": {
    "name": "ipython",
    "version": 3
   },
   "file_extension": ".py",
   "mimetype": "text/x-python",
   "name": "python",
   "nbconvert_exporter": "python",
   "pygments_lexer": "ipython3",
   "version": "3.11.0"
  }
 },
 "nbformat": 4,
 "nbformat_minor": 5
}
