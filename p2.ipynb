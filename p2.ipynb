{
 "cells": [
  {
   "cell_type": "code",
   "execution_count": null,
   "id": "ad1cd607",
   "metadata": {},
   "outputs": [],
   "source": [
    "# Problem statement:-\n",
    "# Create an “Academic performance” dataset of students and perform the following operations using Python.\n",
    "# 1. Scan all variables for missing values and inconsistencies. If there are missing values and/or\n",
    "# inconsistencies, use any of the suitable techniques to deal with them.\n",
    "# 2. Scan all numeric variables for outliers. If there are outliers, use any of the suitable techniques to deal with\n",
    "# them.\n",
    "# 3. Apply data transformations on at least one of the variables. The purpose of this transformation should be\n",
    "\n",
    "# one of the following reasons: to change the scale for better understanding of the variable, to convert a non-\n",
    "# linear relation into a linear one, or to decrease the skewness and convert the distribution into a normal\n",
    "# distribution."
   ]
  },
  {
   "cell_type": "code",
   "execution_count": null,
   "id": "28cb0274",
   "metadata": {},
   "outputs": [],
   "source": [
    "import pandas as pd\n",
    "df=pd.read_csv(\"student-por.csv\")\n",
    "print(df)"
   ]
  },
  {
   "cell_type": "code",
   "execution_count": null,
   "id": "4edad72f",
   "metadata": {},
   "outputs": [],
   "source": [
    "missingValues = df.isnull().sum()\n",
    "print(missingValues)"
   ]
  },
  {
   "cell_type": "code",
   "execution_count": null,
   "id": "b6f3b600",
   "metadata": {},
   "outputs": [],
   "source": [
    "notNull = df.notnull()\n",
    "print(notNull)"
   ]
  },
  {
   "cell_type": "code",
   "execution_count": null,
   "id": "6b52e468",
   "metadata": {},
   "outputs": [],
   "source": [
    "#This line of code is calculating the first quartile (Q1) of the 'age' column in the DataFrame 'df'. \n",
    "# The function `quantile(0.25)` calculates the value below which 25% of the data falls. \n",
    "# The result is stored in the variable `q1`.\n",
    "q1=df.age.quantile(0.25)\n",
    "q3=df.age.quantile(0.75)\n",
    "q1,q3"
   ]
  },
  {
   "cell_type": "code",
   "execution_count": null,
   "id": "bb5850b6",
   "metadata": {},
   "outputs": [],
   "source": [
    "IQR=q3-q1\n",
    "IQR"
   ]
  },
  {
   "cell_type": "code",
   "execution_count": null,
   "id": "20a99394",
   "metadata": {},
   "outputs": [],
   "source": [
    "lower_limit=q1-1.5*IQR\n",
    "upper_limit=q3+1.5*IQR\n",
    "lower_limit,upper_limit"
   ]
  },
  {
   "cell_type": "code",
   "execution_count": null,
   "id": "112f858b",
   "metadata": {},
   "outputs": [],
   "source": [
    "# This code snippet is filtering the DataFrame `df` to select rows where the age column values\n",
    "# are either less than a specified lower limit or greater than a specified upper limit.\n",
    "# The `|` operator represents logical OR, so the condition `(df.age<lower_limit)|(df.age>upper_limit)`\n",
    "# checks for rows where the age is either less than the lower limit or greater than the upper limit.\n",
    "df[(df.age < lower_limit) | (df.age > upper_limit)]"
   ]
  },
  {
   "cell_type": "code",
   "execution_count": null,
   "id": "991a3014",
   "metadata": {},
   "outputs": [],
   "source": [
    "df[(df.age>lower_limit)&(df.age<upper_limit)]"
   ]
  },
  {
   "cell_type": "code",
   "execution_count": null,
   "id": "63ae324a",
   "metadata": {
    "scrolled": true
   },
   "outputs": [],
   "source": [
    "# `df.describe()` is a method in pandas that generates descriptive statistics of the DataFrame `df`.\n",
    "# It provides statistical information such as count, mean, standard deviation, minimum, maximum,\n",
    "# and various quantiles for numerical columns in the DataFrame.\n",
    "df.describe()"
   ]
  },
  {
   "cell_type": "code",
   "execution_count": null,
   "id": "66a4e9ff",
   "metadata": {},
   "outputs": [],
   "source": [
    "#This line of code is calculating the z-score for the 'age' column in the DataFrame 'df'. \n",
    "# The z-score is a measure of how many standard deviations a data point is from the mean.\n",
    "df['zscore']=(df.age - df.age.mean())/df.age.std()\n",
    "df"
   ]
  },
  {
   "cell_type": "code",
   "execution_count": null,
   "id": "fc6a27f0",
   "metadata": {},
   "outputs": [],
   "source": [
    "import seaborn as sns\n",
    "sns.boxplot(df['age'])"
   ]
  },
  {
   "cell_type": "code",
   "execution_count": null,
   "id": "6288cc9f",
   "metadata": {},
   "outputs": [],
   "source": []
  }
 ],
 "metadata": {
  "kernelspec": {
   "display_name": "Python 3 (ipykernel)",
   "language": "python",
   "name": "python3"
  },
  "language_info": {
   "codemirror_mode": {
    "name": "ipython",
    "version": 3
   },
   "file_extension": ".py",
   "mimetype": "text/x-python",
   "name": "python",
   "nbconvert_exporter": "python",
   "pygments_lexer": "ipython3",
   "version": "3.11.0"
  }
 },
 "nbformat": 4,
 "nbformat_minor": 5
}
