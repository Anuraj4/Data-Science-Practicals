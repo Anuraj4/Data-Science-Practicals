{
 "cells": [
  {
   "cell_type": "code",
   "execution_count": null,
   "id": "07e25a9c",
   "metadata": {},
   "outputs": [],
   "source": [
    "# Problem Statement:-\n",
    "# Descriptive Statistics - Measures of Central Tendency and variability perform the following operations on any\n",
    "# open source dataset (e.g., data.csv)\n",
    "# 1. Provide summary statistics (mean, median, minimum, maximum, standard deviation) for a dataset (age,\n",
    "# income etc.) with numeric variables grouped by one of the qualitative (categorical) variables. For example,\n",
    "# if your categorical variable is age groups and quantitative variable is income, then provide summary\n",
    "# statistics of income grouped by the age groups. Create a list that contains a numeric value for each response\n",
    "# to the categorical variable.\n",
    "# 2. Write a Python program to display some basic statistical details like percentile, mean, standard deviation\n",
    "# etc. of the species of ‘Iris-setosa’, ‘Iris-versicolor’ and ‘Iris-versicolor’ of iris.csv dataset."
   ]
  },
  {
   "cell_type": "code",
   "execution_count": null,
   "id": "375f342c",
   "metadata": {},
   "outputs": [],
   "source": [
    "# notes\n",
    "# DESCRIPTIVE STATISTICS: Descriptive Statistics is a statistics or a measure that describes the data.\n",
    "# INFERENTIAL STATISTICS: Using a random sample of data taken from a population to describe \n",
    "# and make inferences about the population is called Inferential Statistics.\n"
   ]
  },
  {
   "cell_type": "code",
   "execution_count": null,
   "id": "d60661d3",
   "metadata": {},
   "outputs": [],
   "source": [
    "import pandas as pd\n",
    "df = pd.read_csv(\"adult.csv\")"
   ]
  },
  {
   "cell_type": "code",
   "execution_count": null,
   "id": "76b8c3ca",
   "metadata": {},
   "outputs": [],
   "source": [
    "print(df)"
   ]
  },
  {
   "cell_type": "code",
   "execution_count": null,
   "id": "13325498",
   "metadata": {},
   "outputs": [],
   "source": [
    "des = df.describe()\n",
    "print(des)"
   ]
  },
  {
   "cell_type": "code",
   "execution_count": null,
   "id": "99910e8b",
   "metadata": {},
   "outputs": [],
   "source": [
    "# Notes:-\n",
    "# The group by function in data science is used to summarize and aggregate data based on\n",
    "# specific criteria, aiding in analysis, pattern identification, and reporting by organizing\n",
    "# data into meaningful groups for further examination."
   ]
  },
  {
   "cell_type": "code",
   "execution_count": null,
   "id": "22c584f5",
   "metadata": {},
   "outputs": [],
   "source": [
    "#This code snippet is grouping the DataFrame `df` by the \"gender\" column and then calculating descriptive statistics for the \"age\" column within each group. \n",
    "# The `describe()` function provides statistics such as count, mean, standard deviation, minimum, maximum, and quartile values for the \"age\" column within each gender group.\n",
    "df.groupby(\"gender\")[\"age\"].describe()"
   ]
  },
  {
   "cell_type": "code",
   "execution_count": null,
   "id": "7abd4a4d",
   "metadata": {},
   "outputs": [],
   "source": [
    "df.agg(['sum', 'min','max'])"
   ]
  },
  {
   "cell_type": "code",
   "execution_count": null,
   "id": "901e290a",
   "metadata": {},
   "outputs": [],
   "source": [
    "#This code is grouping the DataFrame `df` by the \"marital-status\" column and then calculating the mean age for each group. \n",
    "# It will return a Series with the average age for each unique value in the \"marital-status\" column.\n",
    "df.groupby(\"marital-status\")[\"age\"].mean()"
   ]
  },
  {
   "cell_type": "code",
   "execution_count": null,
   "id": "981dd115",
   "metadata": {},
   "outputs": [],
   "source": [
    "df.groupby(\"marital-status\")[\"age\"].median()"
   ]
  },
  {
   "cell_type": "code",
   "execution_count": null,
   "id": "294aa5b6",
   "metadata": {},
   "outputs": [],
   "source": [
    "df.groupby([\"gender\",\"marital-status\"])[\"age\"].std()"
   ]
  },
  {
   "cell_type": "code",
   "execution_count": null,
   "id": "a3c9351c",
   "metadata": {},
   "outputs": [],
   "source": [
    "df.groupby(\"income\")[\"age\"].mean()"
   ]
  },
  {
   "cell_type": "code",
   "execution_count": null,
   "id": "1d16b6c6",
   "metadata": {},
   "outputs": [],
   "source": [
    "df.groupby([\"income\",\"gender\"])[\"age\"].mean()"
   ]
  },
  {
   "cell_type": "code",
   "execution_count": null,
   "id": "4acbe3c3",
   "metadata": {},
   "outputs": [],
   "source": [
    "df.groupby(\"marital-status\")[\"marital-status\"].count()"
   ]
  },
  {
   "cell_type": "code",
   "execution_count": null,
   "id": "a5558657",
   "metadata": {},
   "outputs": [],
   "source": [
    "#Count number of records by category\n",
    "#The value_counts() method counts the number of records for each category in a column.\n",
    "df[\"marital-status\"].value_counts()"
   ]
  },
  {
   "cell_type": "code",
   "execution_count": null,
   "id": "1893b6ed",
   "metadata": {},
   "outputs": [],
   "source": [
    "df[\"marital-status\"].count()"
   ]
  },
  {
   "cell_type": "code",
   "execution_count": null,
   "id": "f239e086",
   "metadata": {},
   "outputs": [],
   "source": []
  }
 ],
 "metadata": {
  "kernelspec": {
   "display_name": "Python 3 (ipykernel)",
   "language": "python",
   "name": "python3"
  },
  "language_info": {
   "codemirror_mode": {
    "name": "ipython",
    "version": 3
   },
   "file_extension": ".py",
   "mimetype": "text/x-python",
   "name": "python",
   "nbconvert_exporter": "python",
   "pygments_lexer": "ipython3",
   "version": "3.11.0"
  }
 },
 "nbformat": 4,
 "nbformat_minor": 5
}
